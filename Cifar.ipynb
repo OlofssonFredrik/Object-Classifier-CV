{
 "cells": [
  {
   "cell_type": "code",
   "execution_count": 151,
   "metadata": {},
   "outputs": [],
   "source": [
    "#Importing\n",
    "\n",
    "import numpy as np\n",
    "import matplotlib.pyplot as plt\n",
    "import tensorflow as tf\n",
    "import keras\n",
    "from keras import Sequential\n",
    "from keras.layers import Dense, Flatten, Dropout, MaxPooling2D, Conv2D"
   ]
  },
  {
   "cell_type": "code",
   "execution_count": 152,
   "metadata": {},
   "outputs": [
    {
     "data": {
      "text/plain": [
       "((50000, 32, 32, 3), (50000,))"
      ]
     },
     "execution_count": 152,
     "metadata": {},
     "output_type": "execute_result"
    }
   ],
   "source": [
    "#Load and transform data\n",
    "\n",
    "(x_train, y_train), (x_test, y_test) = keras.datasets.cifar100.load_data()\n",
    "\n",
    "\n",
    "#y_train = keras.utils.to_categorical(y_train,100)\n",
    "y_train = y_train.reshape(-1,)\n",
    "\n",
    "#y_test = keras.utils.to_categorical(y_test,100)\n",
    "y_test = y_test.reshape(-1,)\n",
    "\n",
    "\n",
    "x_train = x_train / 255\n",
    "x_test = x_test / 255\n",
    "\n",
    "x_train.shape, y_train.shape"
   ]
  },
  {
   "cell_type": "code",
   "execution_count": 153,
   "metadata": {},
   "outputs": [],
   "source": [
    "model = Sequential()\n",
    "\n",
    "model.add(Conv2D(filters=32, kernel_size=(3,3), activation='relu'))\n",
    "model.add(MaxPooling2D())\n",
    "\n",
    "model.add(Conv2D(filters=32, kernel_size=(3,3), activation='relu'))\n",
    "model.add(MaxPooling2D())\n",
    "\n",
    "model.add(Flatten())\n",
    "model.add(Dense(256, activation='relu'))\n",
    "model.add(Dense(100, activation='softmax'))"
   ]
  },
  {
   "cell_type": "code",
   "execution_count": 156,
   "metadata": {},
   "outputs": [
    {
     "name": "stdout",
     "output_type": "stream",
     "text": [
      "Epoch 1/20\n",
      "1250/1250 [==============================] - 24s 19ms/step - loss: 2.8599 - accuracy: 0.2952 - val_loss: 2.8746 - val_accuracy: 0.2960\n",
      "Epoch 2/20\n",
      "1250/1250 [==============================] - 31s 25ms/step - loss: 2.5698 - accuracy: 0.3516 - val_loss: 2.7337 - val_accuracy: 0.3271\n",
      "Epoch 3/20\n",
      "1250/1250 [==============================] - 29s 23ms/step - loss: 2.3392 - accuracy: 0.3994 - val_loss: 2.6494 - val_accuracy: 0.3464\n",
      "Epoch 4/20\n",
      "1250/1250 [==============================] - 27s 22ms/step - loss: 2.1304 - accuracy: 0.4469 - val_loss: 2.6170 - val_accuracy: 0.3509\n",
      "Epoch 5/20\n",
      "1250/1250 [==============================] - 27s 22ms/step - loss: 1.9468 - accuracy: 0.4868 - val_loss: 2.6323 - val_accuracy: 0.3608\n",
      "Epoch 6/20\n",
      "1250/1250 [==============================] - 29s 23ms/step - loss: 1.7712 - accuracy: 0.5225 - val_loss: 2.7144 - val_accuracy: 0.3524\n",
      "Epoch 7/20\n",
      "1250/1250 [==============================] - 26s 20ms/step - loss: 1.6090 - accuracy: 0.5596 - val_loss: 2.8284 - val_accuracy: 0.3519\n",
      "Epoch 8/20\n",
      "1250/1250 [==============================] - 25s 20ms/step - loss: 1.4471 - accuracy: 0.5993 - val_loss: 2.9430 - val_accuracy: 0.3471\n",
      "Epoch 9/20\n",
      "1250/1250 [==============================] - 25s 20ms/step - loss: 1.3040 - accuracy: 0.6340 - val_loss: 3.0769 - val_accuracy: 0.3496\n",
      "Epoch 10/20\n",
      "1250/1250 [==============================] - 27s 21ms/step - loss: 1.1656 - accuracy: 0.6682 - val_loss: 3.1407 - val_accuracy: 0.3493\n",
      "Epoch 11/20\n",
      "1250/1250 [==============================] - 28s 23ms/step - loss: 1.0397 - accuracy: 0.6998 - val_loss: 3.3551 - val_accuracy: 0.3385\n",
      "Epoch 12/20\n",
      "1250/1250 [==============================] - 26s 21ms/step - loss: 0.9255 - accuracy: 0.7288 - val_loss: 3.5937 - val_accuracy: 0.3440\n",
      "Epoch 13/20\n",
      "1250/1250 [==============================] - 24s 20ms/step - loss: 0.8166 - accuracy: 0.7578 - val_loss: 3.8639 - val_accuracy: 0.3336\n",
      "Epoch 14/20\n",
      "1250/1250 [==============================] - 24s 19ms/step - loss: 0.7136 - accuracy: 0.7833 - val_loss: 4.1110 - val_accuracy: 0.3269\n",
      "Epoch 15/20\n",
      "1250/1250 [==============================] - 28s 22ms/step - loss: 0.6338 - accuracy: 0.8074 - val_loss: 4.4189 - val_accuracy: 0.3303\n",
      "Epoch 16/20\n",
      "1250/1250 [==============================] - 28s 23ms/step - loss: 0.5596 - accuracy: 0.8264 - val_loss: 4.7430 - val_accuracy: 0.3256\n",
      "Epoch 17/20\n",
      "1250/1250 [==============================] - 34s 27ms/step - loss: 0.5059 - accuracy: 0.8416 - val_loss: 4.9271 - val_accuracy: 0.3175\n",
      "Epoch 18/20\n",
      "1250/1250 [==============================] - 33s 27ms/step - loss: 0.4523 - accuracy: 0.8585 - val_loss: 5.3078 - val_accuracy: 0.3204\n",
      "Epoch 19/20\n",
      "1250/1250 [==============================] - 24s 19ms/step - loss: 0.4012 - accuracy: 0.8724 - val_loss: 5.6047 - val_accuracy: 0.3230\n",
      "Epoch 20/20\n",
      "1250/1250 [==============================] - 25s 20ms/step - loss: 0.3779 - accuracy: 0.8769 - val_loss: 6.0812 - val_accuracy: 0.3109\n",
      "313/313 [==============================] - 2s 7ms/step - loss: 6.1787 - accuracy: 0.3133\n"
     ]
    },
    {
     "data": {
      "text/plain": [
       "[6.178730487823486, 0.3133000135421753]"
      ]
     },
     "execution_count": 156,
     "metadata": {},
     "output_type": "execute_result"
    }
   ],
   "source": [
    "model.compile(optimizer='adam', loss='sparse_categorical_crossentropy', metrics=['accuracy'])\n",
    "\n",
    "model.fit(x_train, y_train,epochs=20,validation_split=0.2)\n",
    "\n",
    "model.evaluate(x_test, y_test)"
   ]
  },
  {
   "cell_type": "code",
   "execution_count": null,
   "metadata": {},
   "outputs": [],
   "source": [
    "model.save(\"model.h5\")"
   ]
  }
 ],
 "metadata": {
  "kernelspec": {
   "display_name": "Python 3.10.5 64-bit",
   "language": "python",
   "name": "python3"
  },
  "language_info": {
   "codemirror_mode": {
    "name": "ipython",
    "version": 3
   },
   "file_extension": ".py",
   "mimetype": "text/x-python",
   "name": "python",
   "nbconvert_exporter": "python",
   "pygments_lexer": "ipython3",
   "version": "3.10.5"
  },
  "orig_nbformat": 4,
  "vscode": {
   "interpreter": {
    "hash": "5ebdc6c414ca5519ef5814096faaa5bceb02bc46e4987950f7fefd15bcb86121"
   }
  }
 },
 "nbformat": 4,
 "nbformat_minor": 2
}
